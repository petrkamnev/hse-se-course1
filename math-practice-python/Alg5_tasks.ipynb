{
 "cells": [
  {
   "cell_type": "code",
   "execution_count": 1,
   "metadata": {},
   "outputs": [],
   "source": [
    "import sympy\n",
    "from sympy import linsolve, Matrix, S, Symbol, symbols, linear_eq_to_matrix, Eq, zeros"
   ]
  },
  {
   "cell_type": "markdown",
   "metadata": {},
   "source": [
    "# Занятие 5\n",
    "# Алгебра\n",
    "\n",
    "##  Прямые и плоскости в пространстве. Уравнения прямых и  плоскостей.\n",
    "### Задание 1.\n",
    "Определить, пересекаются ли плоскости (все сразу). Если пересекаются, найти точку пересечения.\n",
    "\n",
    "Составить СЛАУ в виде списка уравнений, решить с помощью linsolve.\n",
    "\n",
    "$-8x+5y-2z+28=0$\n",
    "\n",
    "$-11x-10y-16z+71=0$\n",
    "\n",
    "$-7x+3y+8z-27=0$."
   ]
  },
  {
   "cell_type": "code",
   "execution_count": 2,
   "metadata": {},
   "outputs": [
    {
     "data": {
      "text/latex": [
       "$\\displaystyle \\left\\{\\left( 1, \\  -2, \\  5\\right)\\right\\}$"
      ],
      "text/plain": [
       "FiniteSet((1, -2, 5))"
      ]
     },
     "execution_count": 2,
     "metadata": {},
     "output_type": "execute_result"
    }
   ],
   "source": [
    "x,y,z = symbols('x y z')\n",
    "linsolve([Eq(-8*x + 5*y - 2*z + 28, 0), Eq(-11*x - 10*y - 16*z + 71, 0), Eq(-7*x + 3*y + 8*z - 27, 0)], x, y, z)"
   ]
  },
  {
   "cell_type": "markdown",
   "metadata": {},
   "source": [
    "### Задание 2.\n",
    "Найти точку пересечения прямой, проходящей через точки $A(-3,5,1)$ и $B(5,2,-3)$ и плоскости, в которой лежат точки \n",
    "$K(4,3,0)$, $M(2,4,-2)$ и $N(-2,2,-1)$."
   ]
  },
  {
   "cell_type": "code",
   "execution_count": 3,
   "metadata": {},
   "outputs": [
    {
     "data": {
      "text/latex": [
       "$\\displaystyle \\left( \\frac{67}{43}, \\  \\frac{283}{86}, \\  - \\frac{55}{43}\\right)$"
      ],
      "text/plain": [
       "(67/43, 283/86, -55/43)"
      ]
     },
     "metadata": {},
     "output_type": "display_data"
    }
   ],
   "source": [
    "x,y,z,t = symbols('x y z t')\n",
    "tmp = Matrix([x, y, z])\n",
    "A, B, K, M, N = Matrix([-3, 5, 1]), Matrix([5, 2, -3]), Matrix([4, 3, 0]), Matrix([2, 4, -2]), Matrix([-2, 2, -1])\n",
    "\n",
    "Ln = [Eq(tmp[i], A[i] + t*(B[i] - A[i])) for i in range(3)]\n",
    "Pln = Eq((tmp - K).row_join(M - K).row_join(N - K).det(), 0)\n",
    "ans = linsolve(Ln + [Pln],x,y,z,t)\n",
    "for i in ans:\n",
    "    display(i[:-1])"
   ]
  },
  {
   "cell_type": "markdown",
   "metadata": {},
   "source": [
    "### Задание 3.\n",
    "Составить параметрические уравнения прямой, являющейся линией пересечения плоскостей $𝑦+2𝑧−4=0$ и $4𝑥+3𝑦+2𝑧−4=0$. \n",
    "\n",
    "Указание: составить СЛАУ из уравнений плоскостей, воспользоваться linsolve(), заменить переменную в полученном решении на параметр t и составить СЛАУ из параметрических уравнений."
   ]
  },
  {
   "cell_type": "code",
   "execution_count": 4,
   "metadata": {},
   "outputs": [
    {
     "data": {
      "text/latex": [
       "$\\displaystyle \\left\\{\\left( z + 1, \\  - 2 z, \\  z\\right)\\right\\}$"
      ],
      "text/plain": [
       "FiniteSet((z + 1, -2*z, z))"
      ]
     },
     "metadata": {},
     "output_type": "display_data"
    },
    {
     "data": {
      "text/latex": [
       "$\\displaystyle x = t + 1$"
      ],
      "text/plain": [
       "Eq(x, t + 1)"
      ]
     },
     "metadata": {},
     "output_type": "display_data"
    },
    {
     "data": {
      "text/latex": [
       "$\\displaystyle y = - 2 t$"
      ],
      "text/plain": [
       "Eq(y, -2*t)"
      ]
     },
     "metadata": {},
     "output_type": "display_data"
    },
    {
     "data": {
      "text/latex": [
       "$\\displaystyle z = t$"
      ],
      "text/plain": [
       "Eq(z, t)"
      ]
     },
     "metadata": {},
     "output_type": "display_data"
    }
   ],
   "source": [
    "x, y, z, t = symbols('x y z t')\n",
    "tmp = [x, y, z]\n",
    "sol = linsolve([Eq(y + 2*z, 0), Eq(4*x + 3*y + 2*z - 4, 0)], x, y, z)\n",
    "display(sol)\n",
    "ans = []\n",
    "for i, v in enumerate(*sol.subs(z,t)):\n",
    "    ans.append(Eq(tmp[i], v))\n",
    "display(*ans)"
   ]
  },
  {
   "cell_type": "markdown",
   "metadata": {},
   "source": [
    "###  Задание 4.\n",
    "Прямая задана параметрическими уравнениями:\n",
    "$$\n",
    "\\left\\{\\begin{matrix}\n",
    "x=2+5t\\\\\n",
    "y=-1-2t\\\\\n",
    "z=4-3t\n",
    "\\end{matrix}\\right..\n",
    "$$\n",
    "Представить прямую в виде линии пересечения двух плоскостей, одна из которых проходит через начало координат, а вторая плоскость перпендикулярна первой плоскости. Вывести на экран уравнения плоскостей.\n",
    "\n",
    "Указание: составить параметрические уравнения прямой в виде списка правых частей уравнений, затем по образцу Примера 5 составить уравнение плоскости, проходящей через начало координат (по трем точкам). Для составления второй плоскости заметим, что вектор нормали к первой плоскости и любой вектор прямой параллельны второй плоскости, поэтому можно применить формулу 4 уравнения плоскости.\n",
    "Вектор нормали можно составить вручную, глядя на уравнение первой плоскости."
   ]
  },
  {
   "cell_type": "code",
   "execution_count": 5,
   "metadata": {},
   "outputs": [
    {
     "data": {
      "text/latex": [
       "$\\displaystyle \\left[\\begin{matrix}5 t + 2\\\\- 2 t - 1\\\\4 - 3 t\\end{matrix}\\right]$"
      ],
      "text/plain": [
       "Matrix([\n",
       "[ 5*t + 2],\n",
       "[-2*t - 1],\n",
       "[ 4 - 3*t]])"
      ]
     },
     "metadata": {},
     "output_type": "display_data"
    },
    {
     "data": {
      "text/latex": [
       "$\\displaystyle \\left[\\begin{matrix}2\\\\-1\\\\4\\end{matrix}\\right]$"
      ],
      "text/plain": [
       "Matrix([\n",
       "[ 2],\n",
       "[-1],\n",
       "[ 4]])"
      ]
     },
     "metadata": {},
     "output_type": "display_data"
    },
    {
     "data": {
      "text/latex": [
       "$\\displaystyle \\left[\\begin{matrix}12\\\\-5\\\\-2\\end{matrix}\\right]$"
      ],
      "text/plain": [
       "Matrix([\n",
       "[12],\n",
       "[-5],\n",
       "[-2]])"
      ]
     },
     "metadata": {},
     "output_type": "display_data"
    },
    {
     "data": {
      "text/latex": [
       "$\\displaystyle - 22 x - 52 y - 2 z = 0$"
      ],
      "text/plain": [
       "Eq(-22*x - 52*y - 2*z, 0)"
      ]
     },
     "metadata": {},
     "output_type": "display_data"
    },
    {
     "data": {
      "text/latex": [
       "$\\displaystyle 152 x - 76 y + 304 z - 1596 = 0$"
      ],
      "text/plain": [
       "Eq(152*x - 76*y + 304*z - 1596, 0)"
      ]
     },
     "metadata": {},
     "output_type": "display_data"
    }
   ],
   "source": [
    "x, y, z, t = symbols('x y z t')\n",
    "tmp = Matrix([x, y, z])\n",
    "\n",
    "Eqs = Matrix([2 + 5*t, -1 - 2*t, 4 - 3*t])\n",
    "\n",
    "P1 = Eqs.subs(t,0)\n",
    "P2 = Eqs.subs(t,2)\n",
    "display(Eqs, P1, P2)\n",
    "\n",
    "Pl1 = Eq(Matrix([(i - P1).T for i in (P2, tmp, zeros(3,1))]).det(), 0)\n",
    "display(Pl1)\n",
    "\n",
    "Pl2 = Eq(Matrix([tmp - Matrix([2, -1, 4])]).row_join(Matrix([-22, -52, -2])).row_join(Matrix([5, -2, -3])).det(), 0)\n",
    "display(Pl2)"
   ]
  },
  {
   "cell_type": "markdown",
   "metadata": {},
   "source": [
    "### Индивидуальное задание\n",
    "Даны три точки А, В и С в пространстве. Составить уравнение плоскости АВС, систему параметрических уравнений прямой АВ и прямой АМ, перпендикулярной плоскости АВС."
   ]
  },
  {
   "cell_type": "code",
   "execution_count": 6,
   "metadata": {},
   "outputs": [
    {
     "data": {
      "text/latex": [
       "$\\displaystyle 12 x - 12 y + 4 z - 108 = 0$"
      ],
      "text/plain": [
       "Eq(12*x - 12*y + 4*z - 108, 0)"
      ]
     },
     "metadata": {},
     "output_type": "display_data"
    },
    {
     "data": {
      "text/latex": [
       "$\\displaystyle \\left[\\begin{matrix}x = 4 t + 7\\\\y = 4 t - 5\\\\z = -9\\end{matrix}\\right]$"
      ],
      "text/plain": [
       "Matrix([\n",
       "[Eq(x, 4*t + 7)],\n",
       "[Eq(y, 4*t - 5)],\n",
       "[     Eq(z, -9)]])"
      ]
     },
     "metadata": {},
     "output_type": "display_data"
    },
    {
     "data": {
      "text/latex": [
       "$\\displaystyle \\left[\\begin{matrix}x = 12 t + 7\\\\y = - 12 t - 5\\\\z = 4 t - 9\\end{matrix}\\right]$"
      ],
      "text/plain": [
       "Matrix([\n",
       "[ Eq(x, 12*t + 7)],\n",
       "[Eq(y, -12*t - 5)],\n",
       "[  Eq(z, 4*t - 9)]])"
      ]
     },
     "metadata": {},
     "output_type": "display_data"
    }
   ],
   "source": [
    "x, y, z, t = symbols('x y z t')\n",
    "tmp = Matrix([x, y, z])\n",
    "A = Matrix([7, -5, -9]) \n",
    "B = Matrix([11, -1, -9])\n",
    "C = Matrix([12, 1, -6])\n",
    "Pl = Eq(Matrix([(i - A).T for i in (Matrix([x, y, z]), B, C)]).det(), 0)\n",
    "display(Pl)\n",
    "AB = B - A\n",
    "ABl = A + AB*t\n",
    "ABl = Matrix([Eq(tmp[j], i) for j, i in enumerate(ABl)])\n",
    "AM = A + Matrix([12, -12, 4])*t\n",
    "AM = Matrix([Eq(tmp[j], i) for j, i in enumerate(AM)])\n",
    "display(ABl)\n",
    "display(AM)"
   ]
  },
  {
   "cell_type": "code",
   "execution_count": null,
   "metadata": {},
   "outputs": [],
   "source": []
  }
 ],
 "metadata": {
  "kernelspec": {
   "display_name": "Python 3",
   "language": "python",
   "name": "python3"
  },
  "language_info": {
   "codemirror_mode": {
    "name": "ipython",
    "version": 3
   },
   "file_extension": ".py",
   "mimetype": "text/x-python",
   "name": "python",
   "nbconvert_exporter": "python",
   "pygments_lexer": "ipython3",
   "version": "3.7.6"
  }
 },
 "nbformat": 4,
 "nbformat_minor": 2
}
