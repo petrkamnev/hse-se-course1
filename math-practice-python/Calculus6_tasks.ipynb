{
 "cells": [
  {
   "cell_type": "markdown",
   "metadata": {},
   "source": [
    "## Занятие 6\n",
    "## Математический анализ\n",
    "## Дифференцирование"
   ]
  },
  {
   "cell_type": "code",
   "execution_count": 1,
   "metadata": {},
   "outputs": [],
   "source": [
    "import numpy as np\n",
    "import matplotlib.pyplot as plt\n",
    "import sympy\n",
    "from sympy import diff, solve, nsolve, solveset, latex, S, simplify, fraction\n",
    "from sympy import sin as Sin\n",
    "from sympy.calculus.util import continuous_domain\n",
    "%matplotlib inline"
   ]
  },
  {
   "cell_type": "markdown",
   "metadata": {},
   "source": [
    "## Лабораторная работа 6\n",
    "## Математический анализ\n",
    "## Задание 1\n",
    "Исследовать функцию с помощью производной, найти необходимые пределы и решить уравнения.\n",
    "\n",
    "Построить график функции и асимптот, отметить и подписать точки экстремума и точки перегиба,\n",
    "включить функцию и асимптоты в легенду. \n",
    "$$\n",
    "y = x^2e^{-x}\n",
    "$$"
   ]
  },
  {
   "cell_type": "code",
   "execution_count": 61,
   "metadata": {},
   "outputs": [
    {
     "data": {
      "text/plain": [
       "[2]"
      ]
     },
     "metadata": {},
     "output_type": "display_data"
    },
    {
     "data": {
      "text/plain": [
       "[0]"
      ]
     },
     "metadata": {},
     "output_type": "display_data"
    },
    {
     "data": {
      "text/plain": [
       "[2 - sqrt(2), sqrt(2) + 2]"
      ]
     },
     "metadata": {},
     "output_type": "display_data"
    },
    {
     "data": {
      "text/plain": [
       "[1 - sqrt(2), 2, sqrt(2) + 3]"
      ]
     },
     "metadata": {},
     "output_type": "display_data"
    },
    {
     "data": {
      "text/plain": [
       "[2 - sqrt(2), sqrt(2) + 2]"
      ]
     },
     "metadata": {},
     "output_type": "display_data"
    },
    {
     "name": "stdout",
     "output_type": "stream",
     "text": [
      "oo\n",
      "oo\n",
      "oo 0\n"
     ]
    },
    {
     "data": {
      "text/plain": [
       "<matplotlib.legend.Legend at 0x7ff2822d2fd0>"
      ]
     },
     "execution_count": 61,
     "metadata": {},
     "output_type": "execute_result"
    },
    {
     "data": {
      "image/png": "[encoded data removed]",
      "text/plain": [
       "<Figure size 432x288 with 1 Axes>"
      ]
     },
     "metadata": {
      "needs_background": "light"
     },
     "output_type": "display_data"
    }
   ],
   "source": [
    "def f(x):\n",
    "    return x*x*sympy.exp(-x)\n",
    "x = sympy.Symbol('x')\n",
    "\n",
    "X = np.linspace(-1, 10, 100) \n",
    "ax = plt.gca()\n",
    "ax.plot(X, [f(i) for i in X], label = r'f(x)')\n",
    "ax.set_ylim(-1, 1)\n",
    "ax.spines['right'].set_color('none')\n",
    "ax.spines['top'].set_color('none')\n",
    "ax.spines['bottom'].set_position(('data',0))\n",
    "ax.spines['left'].set_position(('data',0))\n",
    "\n",
    "df = f(x).diff(x)\n",
    "df_roots = solve(df, x)\n",
    "points = [df_roots[0]-1 ]\n",
    "points.extend([(df_roots[i] + df_roots[i + 1])/2 for i in range(len(df_roots)-1)]) \n",
    "points.append(df_roots[-1] + 1)\n",
    "max_arr=[]\n",
    "min_arr=[]\n",
    "for i, item in enumerate(df_roots):\n",
    "    df_left = df.subs(x, points[i]) \n",
    "    df_right = df.subs(x, points[i + 1]) \n",
    "    if df_left < 0 and df_right > 0:\n",
    "        min_arr.append(item)\n",
    "    elif df_left > 0 and df_right < 0:\n",
    "        max_arr.append(item)\n",
    "display(max_arr, min_arr)\n",
    "\n",
    "for i, x0 in enumerate(max_arr + min_arr): \n",
    "    f0 = f(x0)\n",
    "    ax.scatter([x0],[f0], 50, color='red') \n",
    "    if x0 < 0:\n",
    "        XYtext = (-120,-30) \n",
    "    else:\n",
    "        XYtext=(20,-30)\n",
    "    ax.annotate(r'$E_' + str(i + 1) + r'$', xy=(x0, f0), xycoords='data',\n",
    "        xytext=(-10, 10), textcoords='offset points', fontsize=16)\n",
    "\n",
    "df2 = f(x).diff(x, 2)\n",
    "df2_roots = solve(df2, x)\n",
    "df2_roots.sort() # Упорядочили корни по возрастанию\n",
    "display(df2_roots)\n",
    "points2 = [df2_roots[0]-1 ]\n",
    "points2.extend([(df2_roots[i] + df2_roots[i + 1])/2 for i in range(len(df2_roots)-1)])\n",
    "points2.append(df2_roots[-1] + 1)\n",
    "display(points2)\n",
    "inflection_arr = [item for i, item in enumerate(df2_roots) if df2.subs(x, points2[i])*df2.subs(x, points2[i + 1]) < 0] \n",
    "display(inflection_arr)\n",
    "\n",
    "for i, x0 in enumerate(inflection_arr): \n",
    "    f0 = f(x0)\n",
    "    ax.scatter([x0],[f0], 50, color='red') \n",
    "    if x0 < 0:\n",
    "        XYtext = (-120,-30) \n",
    "    else:\n",
    "        XYtext=(20,-30) \n",
    "    ax.annotate(r'$A_' + str(i + 1) + r'$', xy=(x0, f0), xycoords='data',\n",
    "        xytext=(-10, 10), textcoords='offset points', fontsize=16)\n",
    "    print(f(x).limit(x, -sympy.oo))\n",
    "\n",
    "    \n",
    "print(f(x).limit(x, -sympy.oo), f(x).limit(x, sympy.oo))\n",
    "\n",
    "ax.axhline(y = 0, color = 'red', linestyle = '--', label = r'y = 0')\n",
    "ax.legend(loc='lower right')"
   ]
  },
  {
   "cell_type": "markdown",
   "metadata": {},
   "source": [
    "## Задание 2\n",
    "Исследовать функцию с помощью производной, найти необходимые пределы и решить уравнения.\n",
    "\n",
    "Построить график функции и асимптот, отметить и подписать точки экстремума и точки перегиба,\n",
    "включить функцию и асимптоты в легенду. \n",
    "$$\n",
    "y=xe^{2/x} + 1 \n",
    "$$"
   ]
  },
  {
   "cell_type": "code",
   "execution_count": 62,
   "metadata": {},
   "outputs": [
    {
     "data": {
      "text/plain": [
       "[]"
      ]
     },
     "metadata": {},
     "output_type": "display_data"
    },
    {
     "data": {
      "text/plain": [
       "[2]"
      ]
     },
     "metadata": {},
     "output_type": "display_data"
    },
    {
     "data": {
      "text/plain": [
       "[]"
      ]
     },
     "metadata": {},
     "output_type": "display_data"
    },
    {
     "name": "stdout",
     "output_type": "stream",
     "text": [
      "-oo oo\n",
      "1 3\n"
     ]
    },
    {
     "data": {
      "text/plain": [
       "<matplotlib.legend.Legend at 0x7ff282260590>"
      ]
     },
     "execution_count": 62,
     "metadata": {},
     "output_type": "execute_result"
    },
    {
     "data": {
      "image/png": "[encoded data removed]",
      "text/plain": [
       "<Figure size 432x288 with 1 Axes>"
      ]
     },
     "metadata": {
      "needs_background": "light"
     },
     "output_type": "display_data"
    }
   ],
   "source": [
    "def f(x):\n",
    "    return x*sympy.exp(2/x) + 1\n",
    "x = sympy.Symbol('x')\n",
    "\n",
    "X = np.linspace(-10, 10, 100) \n",
    "ax = plt.gca()\n",
    "ax.plot(X, [f(i) for i in X], label = r'f(x)')\n",
    "ax.set_ylim(-10, 10)\n",
    "ax.spines['right'].set_color('none')\n",
    "ax.spines['top'].set_color('none')\n",
    "ax.spines['bottom'].set_position(('data',0))\n",
    "ax.spines['left'].set_position(('data',0))\n",
    "\n",
    "df = f(x).diff(x)\n",
    "df_roots = solve(df, x)\n",
    "points = [df_roots[0]-1 ]\n",
    "points.extend([(df_roots[i] + df_roots[i + 1])/2 for i in range(len(df_roots)-1)]) \n",
    "points.append(df_roots[-1] + 1)\n",
    "max_arr=[]\n",
    "min_arr=[]\n",
    "for i, item in enumerate(df_roots):\n",
    "    df_left = df.subs(x, points[i]) \n",
    "    df_right = df.subs(x, points[i + 1]) \n",
    "    if df_left < 0 and df_right > 0:\n",
    "        min_arr.append(item)\n",
    "    elif df_left > 0 and df_right < 0:\n",
    "        max_arr.append(item)\n",
    "display(max_arr, min_arr)\n",
    "\n",
    "for i, x0 in enumerate(max_arr + min_arr): \n",
    "    f0 = f(x0)\n",
    "    ax.scatter([x0],[f0], 50, color='red') \n",
    "    if x0 < 0:\n",
    "        XYtext = (-120,-30) \n",
    "    else:\n",
    "        XYtext=(20,-30)\n",
    "    ax.annotate(r'$E_' + str(i + 1) + r'$', xy=(x0, f0), xycoords='data',\n",
    "        xytext=(-10, 10), textcoords='offset points', fontsize=16)\n",
    "\n",
    "df2 = f(x).diff(x, 2)\n",
    "df2_roots = solve(df2, x)\n",
    "display(df2_roots)\n",
    "    \n",
    "print(f(x).limit(x, -sympy.oo), f(x).limit(x, sympy.oo))\n",
    "\n",
    "ax.axvline(x=0, color='red', linestyle='--', label=r'vert. asympt. $x=' + latex(0) + r'$')\n",
    "\n",
    "\n",
    "a = (f(x)/x).limit(x, sympy.oo)\n",
    "b = (f(x) - a*x).limit(x, sympy.oo)\n",
    "\n",
    "print(a,b)\n",
    "ax.plot([a*i - b for i in X], X, color = 'red', linestyle = '--', label = r'asympt. y = x + 3')\n",
    "\n",
    "ax.legend(loc='lower right')"
   ]
  },
  {
   "cell_type": "markdown",
   "metadata": {},
   "source": [
    "## Индивидуальное задание\n",
    "Исследовать функцию с помощью производной, найти необходимые пределы и решить уравнения.\n",
    "\n",
    "Построить график функции и асимптот (если есть), отметить и подписать точки экстремума и точки перегиба (если есть),\n",
    "включить функцию и асимптоты (если есть) в легенду. "
   ]
  },
  {
   "cell_type": "code",
   "execution_count": 60,
   "metadata": {},
   "outputs": [
    {
     "data": {
      "text/plain": [
       "[3 - 3*sqrt(3)]"
      ]
     },
     "metadata": {},
     "output_type": "display_data"
    },
    {
     "data": {
      "text/plain": [
       "[3 + 3*sqrt(3)]"
      ]
     },
     "metadata": {},
     "output_type": "display_data"
    },
    {
     "data": {
      "text/plain": [
       "[-3/2]"
      ]
     },
     "metadata": {},
     "output_type": "display_data"
    },
    {
     "data": {
      "text/plain": [
       "[-3/2]"
      ]
     },
     "metadata": {},
     "output_type": "display_data"
    },
    {
     "data": {
      "text/plain": [
       "[-5/2, -1/2]"
      ]
     },
     "metadata": {},
     "output_type": "display_data"
    },
    {
     "data": {
      "text/plain": [
       "[-3/2]"
      ]
     },
     "metadata": {},
     "output_type": "display_data"
    },
    {
     "name": "stdout",
     "output_type": "stream",
     "text": [
      "-oo\n",
      "-oo oo\n",
      "1 16\n"
     ]
    },
    {
     "data": {
      "text/plain": [
       "<matplotlib.legend.Legend at 0x7ff282110350>"
      ]
     },
     "execution_count": 60,
     "metadata": {},
     "output_type": "execute_result"
    },
    {
     "data": {
      "image/png": "[encoded data removed]",
      "text/plain": [
       "<Figure size 432x288 with 1 Axes>"
      ]
     },
     "metadata": {
      "needs_background": "light"
     },
     "output_type": "display_data"
    }
   ],
   "source": [
    "def f(x):\n",
    "    return (x + 3)*sympy.exp(6/x) + 7\n",
    "x = sympy.Symbol('x')\n",
    "\n",
    "X = np.linspace(-10, 40, 100) \n",
    "ax = plt.gca()\n",
    "ax.plot(X, [f(i) for i in X], label = r'f(x)')\n",
    "ax.set_ylim(0, 80)\n",
    "ax.spines['right'].set_color('none')\n",
    "ax.spines['top'].set_color('none')\n",
    "ax.spines['bottom'].set_position(('data',0))\n",
    "ax.spines['left'].set_position(('data',0))\n",
    "\n",
    "df = f(x).diff(x)\n",
    "df_roots = solve(df, x)\n",
    "points = [df_roots[0]-1 ]\n",
    "points.extend([(df_roots[i] + df_roots[i + 1])/2 for i in range(len(df_roots)-1)]) \n",
    "points.append(df_roots[-1] + 1)\n",
    "max_arr=[]\n",
    "min_arr=[]\n",
    "for i, item in enumerate(df_roots):\n",
    "    df_left = df.subs(x, points[i]) \n",
    "    df_right = df.subs(x, points[i + 1]) \n",
    "    if df_left < 0 and df_right > 0:\n",
    "        min_arr.append(item)\n",
    "    elif df_left > 0 and df_right < 0:\n",
    "        max_arr.append(item)\n",
    "display(max_arr, min_arr)\n",
    "\n",
    "for i, x0 in enumerate(max_arr + min_arr): \n",
    "    f0 = f(x0)\n",
    "    ax.scatter([x0],[f0], 50, color='red') \n",
    "    if x0 < 0:\n",
    "        XYtext = (-120,-30) \n",
    "    else:\n",
    "        XYtext=(20,-30)\n",
    "    ax.annotate(r'$E_' + str(i + 1) + r'$', xy=(x0, f0), xycoords='data',\n",
    "        xytext=(-10, 10), textcoords='offset points', fontsize=16)\n",
    "\n",
    "df2 = f(x).diff(x, 2)\n",
    "df2_roots = solve(df2, x)\n",
    "display(df2_roots)\n",
    "df2_roots.sort() # Упорядочили корни по возрастанию\n",
    "display(df2_roots)\n",
    "points2 = [df2_roots[0]-1 ]\n",
    "points2.extend([(df2_roots[i] + df2_roots[i + 1])/2 for i in range(len(df2_roots)-1)])\n",
    "points2.append(df2_roots[-1] + 1)\n",
    "display(points2)\n",
    "inflection_arr = [item for i, item in enumerate(df2_roots) if df2.subs(x, points2[i])*df2.subs(x, points2[i + 1]) < 0] \n",
    "display(inflection_arr)\n",
    "\n",
    "ax = plt.gca() # gca stands for 'get current axis' ax.plot(X, f(X))\n",
    "for i, x0 in enumerate(inflection_arr): \n",
    "    f0 = f(x0)\n",
    "    ax.scatter([x0],[f0], 50, color='red') \n",
    "    if x0 < 0:\n",
    "        XYtext = (-120,-30) \n",
    "    else:\n",
    "        XYtext=(20,-30) \n",
    "    ax.annotate(r'$A_' + str(i + 1) + r'$', xy=(x0, f0), xycoords='data',\n",
    "        xytext=(-10, 10), textcoords='offset points', fontsize=16)\n",
    "    print(f(x).limit(x, -sympy.oo))\n",
    "\n",
    "ax = plt.gca() # gca stands for 'get current axis' ax.plot(X, f(X))\n",
    "    \n",
    "print(f(x).limit(x, -sympy.oo), f(x).limit(x, sympy.oo))\n",
    "\n",
    "ax.axvline(x=0, color='red', linestyle='--', label=r'vert. asympt. $x=' + latex(0) + r'$')\n",
    "\n",
    "\n",
    "a = (f(x)/x).limit(x, sympy.oo)\n",
    "b = (f(x) - a*x).limit(x, sympy.oo)\n",
    "\n",
    "print(a,b)\n",
    "ax.plot([a*i - b for i in X], X, color = 'red', linestyle = '--', label = r'asympt. y = x + 16')\n",
    "\n",
    "ax.legend(loc='lower right')"
   ]
  },
  {
   "cell_type": "code",
   "execution_count": null,
   "metadata": {},
   "outputs": [],
   "source": []
  }
 ],
 "metadata": {
  "kernelspec": {
   "display_name": "Python 3",
   "language": "python",
   "name": "python3"
  },
  "language_info": {
   "codemirror_mode": {
    "name": "ipython",
    "version": 3
   },
   "file_extension": ".py",
   "mimetype": "text/x-python",
   "name": "python",
   "nbconvert_exporter": "python",
   "pygments_lexer": "ipython3",
   "version": "3.7.6"
  }
 },
 "nbformat": 4,
 "nbformat_minor": 2
}
