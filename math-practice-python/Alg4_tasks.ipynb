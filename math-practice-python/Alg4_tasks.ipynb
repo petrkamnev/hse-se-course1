{
 "cells": [
  {
   "cell_type": "markdown",
   "metadata": {},
   "source": [
    "## Занятие 4\n",
    "## Алгебра\n",
    "## Фундаментальная система решений однородной СЛАУ"
   ]
  },
  {
   "cell_type": "markdown",
   "metadata": {},
   "source": [
    "https://docs.sympy.org/latest/modules"
   ]
  },
  {
   "cell_type": "code",
   "execution_count": 26,
   "metadata": {},
   "outputs": [],
   "source": [
    "import sympy\n",
    "from sympy import linsolve, Matrix, S, Symbol, symbols, Eq, linear_eq_to_matrix, simplify, zeros"
   ]
  },
  {
   "cell_type": "markdown",
   "metadata": {},
   "source": [
    "### Задание 1.\n",
    "Проверить по теореме Кронекера-Капелли совместность СЛАУ $AX = b$, если\n",
    "\\begin{align*}\n",
    "a)\\ A = \\left(\n",
    "\\begin{matrix}\n",
    "-1 & -3 & 5 & 2\\\\\n",
    "2 & -1 & 4 & 7\\\\\n",
    "3 & 4 & -1 & 0\\\\\n",
    "5 & 0 & 1 & -3\n",
    "\\end{matrix}\n",
    "\\right), \\quad \n",
    "b = \\left(\n",
    "\\begin{matrix}\n",
    "14\\\\ 56\\\\ 5\\\\ -6\n",
    "\\end{matrix}\n",
    "\\right), \\quad \n",
    "b)\\ A = \\left(\n",
    "\\begin{matrix}\n",
    "1 & 3 & 5 & 2\\\\\n",
    "2 & -1 & 4 & 1\\\\\n",
    "3 & 4 & -1 & 0\\\\\n",
    "5 & 3 & 3 & 1\n",
    "\\end{matrix}\n",
    "\\right), \\quad \n",
    "b = \\left(\n",
    "\\begin{matrix}\n",
    "24\\\\ 20\\\\ 5\\\\ 5\n",
    "\\end{matrix}\n",
    "\\right), \\quad \n",
    "c)\\ A = \\left(\n",
    "\\begin{matrix}\n",
    "1 & 3 & 5 & 2\\\\\n",
    "2 & -1 & 4 & 1\\\\\n",
    "3 & 2 & 9 & 3\\\\\n",
    "1 & -4 & -1 & -1\n",
    "\\end{matrix}\n",
    "\\right), \\quad \n",
    "b = \\left(\n",
    "\\begin{matrix}\n",
    "24\\\\ 20\\\\ 44\\\\ -4\n",
    "\\end{matrix}\n",
    "\\right)\n",
    "\\end{align*}"
   ]
  },
  {
   "cell_type": "code",
   "execution_count": 27,
   "metadata": {},
   "outputs": [
    {
     "data": {
      "text/latex": [
       "$\\displaystyle \\left[\\begin{matrix}-1 & -3 & 5 & 2\\\\2 & -1 & 4 & 7\\\\3 & 4 & -1 & 0\\\\5 & 0 & 1 & -3\\end{matrix}\\right]$"
      ],
      "text/plain": [
       "Matrix([\n",
       "[-1, -3,  5,  2],\n",
       "[ 2, -1,  4,  7],\n",
       "[ 3,  4, -1,  0],\n",
       "[ 5,  0,  1, -3]])"
      ]
     },
     "metadata": {},
     "output_type": "display_data"
    },
    {
     "data": {
      "text/latex": [
       "$\\displaystyle \\left[\\begin{matrix}14\\\\56\\\\5\\\\-6\\end{matrix}\\right]$"
      ],
      "text/plain": [
       "Matrix([\n",
       "[14],\n",
       "[56],\n",
       "[ 5],\n",
       "[-6]])"
      ]
     },
     "metadata": {},
     "output_type": "display_data"
    },
    {
     "name": "stdout",
     "output_type": "stream",
     "text": [
      "True\n"
     ]
    },
    {
     "data": {
      "text/latex": [
       "$\\displaystyle \\left[\\begin{matrix}1 & 3 & 5 & 2\\\\2 & -1 & 4 & 1\\\\3 & 4 & -1 & 0\\\\5 & 3 & 3 & 1\\end{matrix}\\right]$"
      ],
      "text/plain": [
       "Matrix([\n",
       "[1,  3,  5, 2],\n",
       "[2, -1,  4, 1],\n",
       "[3,  4, -1, 0],\n",
       "[5,  3,  3, 1]])"
      ]
     },
     "metadata": {},
     "output_type": "display_data"
    },
    {
     "data": {
      "text/latex": [
       "$\\displaystyle \\left[\\begin{matrix}24\\\\20\\\\5\\\\5\\end{matrix}\\right]$"
      ],
      "text/plain": [
       "Matrix([\n",
       "[24],\n",
       "[20],\n",
       "[ 5],\n",
       "[ 5]])"
      ]
     },
     "metadata": {},
     "output_type": "display_data"
    },
    {
     "name": "stdout",
     "output_type": "stream",
     "text": [
      "False\n"
     ]
    },
    {
     "data": {
      "text/latex": [
       "$\\displaystyle \\left[\\begin{matrix}1 & 3 & 5 & 2\\\\2 & -1 & 4 & 1\\\\3 & 2 & 9 & 3\\\\1 & -4 & -1 & -1\\end{matrix}\\right]$"
      ],
      "text/plain": [
       "Matrix([\n",
       "[1,  3,  5,  2],\n",
       "[2, -1,  4,  1],\n",
       "[3,  2,  9,  3],\n",
       "[1, -4, -1, -1]])"
      ]
     },
     "metadata": {},
     "output_type": "display_data"
    },
    {
     "data": {
      "text/latex": [
       "$\\displaystyle \\left[\\begin{matrix}24\\\\20\\\\44\\\\-4\\end{matrix}\\right]$"
      ],
      "text/plain": [
       "Matrix([\n",
       "[24],\n",
       "[20],\n",
       "[44],\n",
       "[-4]])"
      ]
     },
     "metadata": {},
     "output_type": "display_data"
    },
    {
     "name": "stdout",
     "output_type": "stream",
     "text": [
      "True\n"
     ]
    }
   ],
   "source": [
    "A1 = Matrix([[-1, -3, 5, 2], [2, -1, 4, 7], [3, 4, -1, 0], [5, 0, 1, -3]])\n",
    "b1 = Matrix([14, 56, 5, -6])\n",
    "A2 = Matrix([[1, 3, 5, 2], [2, -1, 4, 1], [3, 4, -1, 0], [5, 3, 3, 1]])\n",
    "b2 = Matrix([24, 20, 5, 5])\n",
    "A3 = Matrix([[1, 3, 5, 2], [2, -1, 4, 1], [3, 2, 9, 3], [1, -4, -1, -1]])\n",
    "b3 = Matrix([24, 20, 44, -4])\n",
    "for i, uv in enumerate([(A1, b1), (A2, b2), (A3, b3)]):\n",
    "    A = uv[0]\n",
    "    b = uv[1]\n",
    "    display(A, b)\n",
    "    print(A.rank() == A.row_join(b).rank())"
   ]
  },
  {
   "cell_type": "markdown",
   "metadata": {},
   "source": [
    "### Задание 2.\n",
    "Проверить единственность решения в совместных СЛАУ Задания 1."
   ]
  },
  {
   "cell_type": "code",
   "execution_count": 28,
   "metadata": {},
   "outputs": [
    {
     "name": "stdout",
     "output_type": "stream",
     "text": [
      "True\n",
      "False\n"
     ]
    }
   ],
   "source": [
    "print(A1.shape[1] == A1.row_join(b1).rank())\n",
    "\n",
    "print(A3.shape[1] == A3.row_join(b3).rank())"
   ]
  },
  {
   "cell_type": "markdown",
   "metadata": {},
   "source": [
    "### Задание 3\n",
    "Для однородных СЛАУ, соответствующих СЛАУ из Задания 1 установить, есть ли у однородной СЛАУ нетривиальное решение. "
   ]
  },
  {
   "cell_type": "code",
   "execution_count": 29,
   "metadata": {},
   "outputs": [
    {
     "name": "stdout",
     "output_type": "stream",
     "text": [
      "False\n",
      "True\n",
      "True\n"
     ]
    }
   ],
   "source": [
    "print(A1.det() == 0)\n",
    "\n",
    "print(A2.det() == 0)\n",
    "\n",
    "print(A3.det() == 0)"
   ]
  },
  {
   "cell_type": "markdown",
   "metadata": {},
   "source": [
    "### Задание 4\n",
    "Для однородных СЛАУ из Задания 3, имеющих нетривиальное решение, составить ФСР. "
   ]
  },
  {
   "cell_type": "code",
   "execution_count": 30,
   "metadata": {},
   "outputs": [
    {
     "data": {
      "text/latex": [
       "$\\displaystyle \\left[\\begin{matrix}\\frac{7}{82}\\\\- \\frac{6}{41}\\\\- \\frac{27}{82}\\\\1\\end{matrix}\\right]$"
      ],
      "text/plain": [
       "Matrix([\n",
       "[  7/82],\n",
       "[ -6/41],\n",
       "[-27/82],\n",
       "[     1]])"
      ]
     },
     "metadata": {},
     "output_type": "display_data"
    },
    {
     "data": {
      "text/plain": [
       "'_____'"
      ]
     },
     "metadata": {},
     "output_type": "display_data"
    },
    {
     "data": {
      "text/latex": [
       "$\\displaystyle \\left[\\begin{matrix}- \\frac{17}{7}\\\\- \\frac{6}{7}\\\\1\\\\0\\end{matrix}\\right]$"
      ],
      "text/plain": [
       "Matrix([\n",
       "[-17/7],\n",
       "[ -6/7],\n",
       "[    1],\n",
       "[    0]])"
      ]
     },
     "metadata": {},
     "output_type": "display_data"
    },
    {
     "data": {
      "text/latex": [
       "$\\displaystyle \\left[\\begin{matrix}- \\frac{5}{7}\\\\- \\frac{3}{7}\\\\0\\\\1\\end{matrix}\\right]$"
      ],
      "text/plain": [
       "Matrix([\n",
       "[-5/7],\n",
       "[-3/7],\n",
       "[   0],\n",
       "[   1]])"
      ]
     },
     "metadata": {},
     "output_type": "display_data"
    }
   ],
   "source": [
    "fcr2 = A2.nullspace()\n",
    "fcr3 = A3.nullspace()\n",
    "display(*fcr2, '_____', *fcr3)"
   ]
  },
  {
   "cell_type": "markdown",
   "metadata": {},
   "source": [
    "### Задание 5\n",
    "Для однородных СЛАУ из Задания 4 построить общее решение, используя построенную в Задании 4 ФСР. Сравнить с результатом, возвращаемым linsolve. "
   ]
  },
  {
   "cell_type": "code",
   "execution_count": 33,
   "metadata": {},
   "outputs": [
    {
     "data": {
      "text/latex": [
       "$\\displaystyle \\left[\\begin{matrix}0\\\\0\\\\0\\\\0\\end{matrix}\\right]$"
      ],
      "text/plain": [
       "Matrix([\n",
       "[0],\n",
       "[0],\n",
       "[0],\n",
       "[0]])"
      ]
     },
     "metadata": {},
     "output_type": "display_data"
    },
    {
     "data": {
      "text/latex": [
       "$\\displaystyle \\left( 0, \\  0, \\  0, \\  0\\right)$"
      ],
      "text/plain": [
       "(0, 0, 0, 0)"
      ]
     },
     "metadata": {},
     "output_type": "display_data"
    },
    {
     "data": {
      "text/latex": [
       "$\\displaystyle \\left[\\begin{matrix}\\frac{7 \\alpha_{1}}{82}\\\\- \\frac{6 \\alpha_{1}}{41}\\\\- \\frac{27 \\alpha_{1}}{82}\\\\\\alpha_{1}\\end{matrix}\\right]$"
      ],
      "text/plain": [
       "Matrix([\n",
       "[  7*alpha1/82],\n",
       "[ -6*alpha1/41],\n",
       "[-27*alpha1/82],\n",
       "[       alpha1]])"
      ]
     },
     "metadata": {},
     "output_type": "display_data"
    },
    {
     "data": {
      "text/latex": [
       "$\\displaystyle \\left( \\frac{7 x_{4}}{82}, \\  - \\frac{6 x_{4}}{41}, \\  - \\frac{27 x_{4}}{82}, \\  x_{4}\\right)$"
      ],
      "text/plain": [
       "(7*x4/82, -6*x4/41, -27*x4/82, x4)"
      ]
     },
     "metadata": {},
     "output_type": "display_data"
    },
    {
     "data": {
      "text/latex": [
       "$\\displaystyle \\left[\\begin{matrix}- \\frac{17 \\alpha_{1}}{7} - \\frac{5 \\alpha_{2}}{7}\\\\- \\frac{6 \\alpha_{1}}{7} - \\frac{3 \\alpha_{2}}{7}\\\\\\alpha_{1}\\\\\\alpha_{2}\\end{matrix}\\right]$"
      ],
      "text/plain": [
       "Matrix([\n",
       "[-17*alpha1/7 - 5*alpha2/7],\n",
       "[ -6*alpha1/7 - 3*alpha2/7],\n",
       "[                   alpha1],\n",
       "[                   alpha2]])"
      ]
     },
     "metadata": {},
     "output_type": "display_data"
    },
    {
     "data": {
      "text/latex": [
       "$\\displaystyle \\left( - \\frac{17 x_{3}}{7} - \\frac{5 x_{4}}{7}, \\  - \\frac{6 x_{3}}{7} - \\frac{3 x_{4}}{7}, \\  x_{3}, \\  x_{4}\\right)$"
      ],
      "text/plain": [
       "(-17*x3/7 - 5*x4/7, -6*x3/7 - 3*x4/7, x3, x4)"
      ]
     },
     "metadata": {},
     "output_type": "display_data"
    }
   ],
   "source": [
    "for i, A in enumerate([A1, A2, A3]):\n",
    "    n, m = A.shape\n",
    "    X = zeros(m,1)\n",
    "    for j, t in enumerate(A.nullspace()):\n",
    "        X += t * Symbol('alpha' + str(j+1))\n",
    "    display(X,*linsolve((A,zeros(m,1)),symbols('x1:' + str(m + 1))))\n",
    "    "
   ]
  },
  {
   "cell_type": "markdown",
   "metadata": {},
   "source": [
    "### Индивидуальное задание.\n",
    "Дана СЛАУ $AX = b$. Проверить совместность по теореме Кронекера-Капелли. Если СЛАУ совместна, проверить единственность решения.\n",
    "Для соответствующей однородной СЛАУ проверить существование нетривиального решения. В случае, если оно существует, \n",
    "найти размерность пространства решений и составить ФСР и общее решение однородной СЛАУ."
   ]
  },
  {
   "cell_type": "code",
   "execution_count": 42,
   "metadata": {},
   "outputs": [
    {
     "name": "stdout",
     "output_type": "stream",
     "text": [
      "True\n",
      "False\n",
      "True\n"
     ]
    },
    {
     "data": {
      "text/latex": [
       "$\\displaystyle \\left[\\begin{matrix}\\frac{2}{61}\\\\- \\frac{52}{61}\\\\1\\\\0\\end{matrix}\\right]$"
      ],
      "text/plain": [
       "Matrix([\n",
       "[  2/61],\n",
       "[-52/61],\n",
       "[     1],\n",
       "[     0]])"
      ]
     },
     "metadata": {},
     "output_type": "display_data"
    },
    {
     "data": {
      "text/latex": [
       "$\\displaystyle \\left[\\begin{matrix}- \\frac{48}{61}\\\\\\frac{28}{61}\\\\0\\\\1\\end{matrix}\\right]$"
      ],
      "text/plain": [
       "Matrix([\n",
       "[-48/61],\n",
       "[ 28/61],\n",
       "[     0],\n",
       "[     1]])"
      ]
     },
     "metadata": {},
     "output_type": "display_data"
    },
    {
     "data": {
      "text/latex": [
       "$\\displaystyle \\left[\\begin{matrix}\\frac{2 \\alpha_{1}}{61} - \\frac{48 \\alpha_{2}}{61}\\\\- \\frac{52 \\alpha_{1}}{61} + \\frac{28 \\alpha_{2}}{61}\\\\\\alpha_{1}\\\\\\alpha_{2}\\end{matrix}\\right]$"
      ],
      "text/plain": [
       "Matrix([\n",
       "[  2*alpha1/61 - 48*alpha2/61],\n",
       "[-52*alpha1/61 + 28*alpha2/61],\n",
       "[                      alpha1],\n",
       "[                      alpha2]])"
      ]
     },
     "metadata": {},
     "output_type": "display_data"
    }
   ],
   "source": [
    "A = Matrix([[-9, 2, 2, -8], [-1, 7, 6, -4], [-40, 36, 32, -48], [-32, 41, 36, -44]])\n",
    "b = Matrix([71, 43, 456, 428])\n",
    "print(A.rank() == A.row_join(b).rank())\n",
    "print(A.shape[1] == A.row_join(b).rank())\n",
    "print(A.det() == 0)\n",
    "fcr = A.nullspace()\n",
    "display(*fcr)\n",
    "n, m = A.shape\n",
    "X = zeros(m,1)\n",
    "for j, t in enumerate(A.nullspace()):\n",
    "    X += t * Symbol('alpha' + str(j+1))\n",
    "display(X)"
   ]
  },
  {
   "cell_type": "code",
   "execution_count": null,
   "metadata": {},
   "outputs": [],
   "source": []
  }
 ],
 "metadata": {
  "kernelspec": {
   "display_name": "Python 3",
   "language": "python",
   "name": "python3"
  },
  "language_info": {
   "codemirror_mode": {
    "name": "ipython",
    "version": 3
   },
   "file_extension": ".py",
   "mimetype": "text/x-python",
   "name": "python",
   "nbconvert_exporter": "python",
   "pygments_lexer": "ipython3",
   "version": "3.7.6"
  }
 },
 "nbformat": 4,
 "nbformat_minor": 2
}
