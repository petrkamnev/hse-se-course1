{
 "cells": [
  {
   "cell_type": "code",
   "execution_count": 29,
   "metadata": {},
   "outputs": [],
   "source": [
    "import sympy\n",
    "import random\n",
    "from sympy import  Symbol, symbols, S, Point, Line, Plane, Point3D, Matrix\n"
   ]
  },
  {
   "cell_type": "markdown",
   "metadata": {},
   "source": [
    "# Занятие 6\n",
    "# Алгебра\n",
    "\n",
    "##  Прямые и плоскости в пространстве. Geometry.\n",
    "### Задание 1.\n",
    "Найти угол между плоскостями $ABC$ и  $ABD$, где \n",
    "$A(-1, 2, -4)$,\n",
    "$B(2, -2, 1)$,\n",
    "$C(5, 3, -6)$,\n",
    "$D(0, 3, -6)$."
   ]
  },
  {
   "cell_type": "code",
   "execution_count": 3,
   "metadata": {},
   "outputs": [
    {
     "data": {
      "text/latex": [
       "$\\displaystyle \\operatorname{acos}{\\left(\\frac{33 \\sqrt{1130}}{1130} \\right)}$"
      ],
      "text/plain": [
       "acos(33*sqrt(1130)/1130)"
      ]
     },
     "execution_count": 3,
     "metadata": {},
     "output_type": "execute_result"
    }
   ],
   "source": [
    "A = Point(-1, 2, -4)\n",
    "B = Point(2, -2, 1)\n",
    "C = Point(5, 3, -6)\n",
    "D = Point(0, 3, -6)\n",
    "pln1 = Plane(A, B, C)\n",
    "pln2 = Plane(A, C, D)\n",
    "pln1.angle_between(pln2)"
   ]
  },
  {
   "cell_type": "markdown",
   "metadata": {},
   "source": [
    "### Задание 2.\n",
    "Найти угол между прямой, проходящей через точки $A(-3,5,1)$ и $B(5,2,-3)$ и плоскостью, в которой лежат точки \n",
    "$K(4,3,0)$, $M(2,4,-2)$ и $N(-2,2,-1)$."
   ]
  },
  {
   "cell_type": "code",
   "execution_count": 4,
   "metadata": {},
   "outputs": [
    {
     "data": {
      "text/latex": [
       "$\\displaystyle - \\operatorname{asin}{\\left(\\frac{86 \\sqrt{15397}}{15397} \\right)}$"
      ],
      "text/plain": [
       "-asin(86*sqrt(15397)/15397)"
      ]
     },
     "metadata": {},
     "output_type": "display_data"
    }
   ],
   "source": [
    "A = Point(-3, 5, 1)\n",
    "B = Point(5, 2, -3)\n",
    "AB = Line(A, B)\n",
    "K = Point(4, 3, 0)\n",
    "M = Point(2, 4, -2)\n",
    "N = Point(-2, 2, -1)\n",
    "pln = Plane(K, M, N)\n",
    "display(pln.angle_between(AB))"
   ]
  },
  {
   "cell_type": "markdown",
   "metadata": {},
   "source": [
    "### Задание 3.\n",
    "Проверить, лежат ли точки в одной плоскости\n",
    "\n",
    "а) $A(3, 2, -1)$, $B(2, -1, 0)$, $C(5, 2, -6)$, $D(6, 5, -7)$\n",
    "\n",
    "b) $A(-1, 5, -4)$, $B(7, -2, 1)$, $C(6, 3, -8)$, $D(0, 3, 0)$"
   ]
  },
  {
   "cell_type": "code",
   "execution_count": 5,
   "metadata": {},
   "outputs": [
    {
     "data": {
      "text/plain": [
       "False"
      ]
     },
     "metadata": {},
     "output_type": "display_data"
    },
    {
     "data": {
      "text/plain": [
       "False"
      ]
     },
     "metadata": {},
     "output_type": "display_data"
    }
   ],
   "source": [
    "points1 = [Point(3, 2, -1), Point(-2, -1, 0), Point(5, 2, -6), Point(6, 5, -7)]\n",
    "points2 = [Point(-1, 5, -4), Point(7, -2, 1), Point(6, 3, -8), Point(0, 3, 0)]\n",
    "for i in [points1, points2]:\n",
    "    A, B, C, D = i\n",
    "    display(Point3D.are_coplanar(A, B, C, D))"
   ]
  },
  {
   "cell_type": "markdown",
   "metadata": {},
   "source": [
    "###  Задание 4.\n",
    "Прямая задана параметрическими уравнениями:\n",
    "$$\n",
    "\\left\\{\\begin{matrix}\n",
    "x=2+5t\\\\\n",
    "y=-1-2t\\\\\n",
    "z=4-3t\n",
    "\\end{matrix}\\right..\n",
    "$$\n",
    "Представить прямую в виде линии пересечения двух плоскостей (вывести на экран уравнения плоскостей), \n",
    "одна из которых проходит через начало координат, а вторая плоскость перпендикулярна первой плоскости.\n",
    "\n",
    "Указание: сначала составить список правых частей параметрических уравнений, затем составить две различные точки на прямой и далее решить средствами для работы с прямыми и плоскостями из модуля Geometry."
   ]
  },
  {
   "cell_type": "code",
   "execution_count": 11,
   "metadata": {},
   "outputs": [
    {
     "data": {
      "text/latex": [
       "$\\displaystyle - 11 x - 26 y - z$"
      ],
      "text/plain": [
       "-11*x - 26*y - z"
      ]
     },
     "metadata": {},
     "output_type": "display_data"
    },
    {
     "data": {
      "text/latex": [
       "$\\displaystyle 76 x - 38 y + 152 z - 798$"
      ],
      "text/plain": [
       "76*x - 38*y + 152*z - 798"
      ]
     },
     "metadata": {},
     "output_type": "display_data"
    }
   ],
   "source": [
    "x, y, z, t = symbols('x y z t')\n",
    "right = [2 + 5*t, -1 - 2*t, 4 - 3*t]\n",
    "A = Point([i.subs(t, 1) for i in right])\n",
    "B = Point([i.subs(t, 0) for i in right])\n",
    "O = Point([0, 0, 0])\n",
    "\n",
    "ABO = Plane(A, B, O)\n",
    "ABK = ABO.perpendicular_plane(A, B)\n",
    "\n",
    "display(ABO.equation(), ABK.equation())"
   ]
  },
  {
   "cell_type": "markdown",
   "metadata": {},
   "source": [
    "###  Задание 5.\n",
    "Даны точки  пространстве\n",
    "$A(-2, 7, -5)$, $B(6, 2, -4)$, $C(14, -3, -2)$, $D(22, -8, -2)$, $K(30, -7, -4)$,\n",
    "$M(94, -35, -2)$.\n",
    "\n",
    "Определить, какие тройки точек лежат на одной прямой, какие четверки - в одной плоскости.\n",
    "\n",
    "Для проверки того, что три точки лежат на одной прямой использовать Point3D.are_collinear.\n",
    "\n",
    "Вывести на экран тройки точек, лежащие на одной прямой и четверки точек, лежащих в одной плоскости."
   ]
  },
  {
   "cell_type": "code",
   "execution_count": 16,
   "metadata": {},
   "outputs": [
    {
     "name": "stdout",
     "output_type": "stream",
     "text": [
      "collinear\n"
     ]
    },
    {
     "data": {
      "text/latex": [
       "$\\displaystyle Point3D\\left(-2, 7, -5\\right)$"
      ],
      "text/plain": [
       "Point3D(-2, 7, -5)"
      ]
     },
     "metadata": {},
     "output_type": "display_data"
    },
    {
     "data": {
      "text/latex": [
       "$\\displaystyle Point3D\\left(6, 2, -4\\right)$"
      ],
      "text/plain": [
       "Point3D(6, 2, -4)"
      ]
     },
     "metadata": {},
     "output_type": "display_data"
    },
    {
     "data": {
      "text/latex": [
       "$\\displaystyle Point3D\\left(22, -8, -2\\right)$"
      ],
      "text/plain": [
       "Point3D(22, -8, -2)"
      ]
     },
     "metadata": {},
     "output_type": "display_data"
    },
    {
     "name": "stdout",
     "output_type": "stream",
     "text": [
      "______\n"
     ]
    },
    {
     "data": {
      "text/latex": [
       "$\\displaystyle Point3D\\left(-2, 7, -5\\right)$"
      ],
      "text/plain": [
       "Point3D(-2, 7, -5)"
      ]
     },
     "metadata": {},
     "output_type": "display_data"
    },
    {
     "data": {
      "text/latex": [
       "$\\displaystyle Point3D\\left(30, -7, -4\\right)$"
      ],
      "text/plain": [
       "Point3D(30, -7, -4)"
      ]
     },
     "metadata": {},
     "output_type": "display_data"
    },
    {
     "data": {
      "text/latex": [
       "$\\displaystyle Point3D\\left(94, -35, -2\\right)$"
      ],
      "text/plain": [
       "Point3D(94, -35, -2)"
      ]
     },
     "metadata": {},
     "output_type": "display_data"
    },
    {
     "name": "stdout",
     "output_type": "stream",
     "text": [
      "______\n",
      "coplanar\n"
     ]
    },
    {
     "data": {
      "text/latex": [
       "$\\displaystyle Point3D\\left(-2, 7, -5\\right)$"
      ],
      "text/plain": [
       "Point3D(-2, 7, -5)"
      ]
     },
     "metadata": {},
     "output_type": "display_data"
    },
    {
     "data": {
      "text/latex": [
       "$\\displaystyle Point3D\\left(6, 2, -4\\right)$"
      ],
      "text/plain": [
       "Point3D(6, 2, -4)"
      ]
     },
     "metadata": {},
     "output_type": "display_data"
    },
    {
     "data": {
      "text/latex": [
       "$\\displaystyle Point3D\\left(14, -3, -2\\right)$"
      ],
      "text/plain": [
       "Point3D(14, -3, -2)"
      ]
     },
     "metadata": {},
     "output_type": "display_data"
    },
    {
     "data": {
      "text/latex": [
       "$\\displaystyle Point3D\\left(22, -8, -2\\right)$"
      ],
      "text/plain": [
       "Point3D(22, -8, -2)"
      ]
     },
     "metadata": {},
     "output_type": "display_data"
    },
    {
     "name": "stdout",
     "output_type": "stream",
     "text": [
      "_____\n"
     ]
    },
    {
     "data": {
      "text/latex": [
       "$\\displaystyle Point3D\\left(-2, 7, -5\\right)$"
      ],
      "text/plain": [
       "Point3D(-2, 7, -5)"
      ]
     },
     "metadata": {},
     "output_type": "display_data"
    },
    {
     "data": {
      "text/latex": [
       "$\\displaystyle Point3D\\left(6, 2, -4\\right)$"
      ],
      "text/plain": [
       "Point3D(6, 2, -4)"
      ]
     },
     "metadata": {},
     "output_type": "display_data"
    },
    {
     "data": {
      "text/latex": [
       "$\\displaystyle Point3D\\left(22, -8, -2\\right)$"
      ],
      "text/plain": [
       "Point3D(22, -8, -2)"
      ]
     },
     "metadata": {},
     "output_type": "display_data"
    },
    {
     "data": {
      "text/latex": [
       "$\\displaystyle Point3D\\left(30, -7, -4\\right)$"
      ],
      "text/plain": [
       "Point3D(30, -7, -4)"
      ]
     },
     "metadata": {},
     "output_type": "display_data"
    },
    {
     "name": "stdout",
     "output_type": "stream",
     "text": [
      "_____\n"
     ]
    },
    {
     "data": {
      "text/latex": [
       "$\\displaystyle Point3D\\left(-2, 7, -5\\right)$"
      ],
      "text/plain": [
       "Point3D(-2, 7, -5)"
      ]
     },
     "metadata": {},
     "output_type": "display_data"
    },
    {
     "data": {
      "text/latex": [
       "$\\displaystyle Point3D\\left(6, 2, -4\\right)$"
      ],
      "text/plain": [
       "Point3D(6, 2, -4)"
      ]
     },
     "metadata": {},
     "output_type": "display_data"
    },
    {
     "data": {
      "text/latex": [
       "$\\displaystyle Point3D\\left(22, -8, -2\\right)$"
      ],
      "text/plain": [
       "Point3D(22, -8, -2)"
      ]
     },
     "metadata": {},
     "output_type": "display_data"
    },
    {
     "data": {
      "text/latex": [
       "$\\displaystyle Point3D\\left(94, -35, -2\\right)$"
      ],
      "text/plain": [
       "Point3D(94, -35, -2)"
      ]
     },
     "metadata": {},
     "output_type": "display_data"
    },
    {
     "name": "stdout",
     "output_type": "stream",
     "text": [
      "_____\n"
     ]
    },
    {
     "data": {
      "text/latex": [
       "$\\displaystyle Point3D\\left(-2, 7, -5\\right)$"
      ],
      "text/plain": [
       "Point3D(-2, 7, -5)"
      ]
     },
     "metadata": {},
     "output_type": "display_data"
    },
    {
     "data": {
      "text/latex": [
       "$\\displaystyle Point3D\\left(6, 2, -4\\right)$"
      ],
      "text/plain": [
       "Point3D(6, 2, -4)"
      ]
     },
     "metadata": {},
     "output_type": "display_data"
    },
    {
     "data": {
      "text/latex": [
       "$\\displaystyle Point3D\\left(30, -7, -4\\right)$"
      ],
      "text/plain": [
       "Point3D(30, -7, -4)"
      ]
     },
     "metadata": {},
     "output_type": "display_data"
    },
    {
     "data": {
      "text/latex": [
       "$\\displaystyle Point3D\\left(94, -35, -2\\right)$"
      ],
      "text/plain": [
       "Point3D(94, -35, -2)"
      ]
     },
     "metadata": {},
     "output_type": "display_data"
    },
    {
     "name": "stdout",
     "output_type": "stream",
     "text": [
      "_____\n"
     ]
    },
    {
     "data": {
      "text/latex": [
       "$\\displaystyle Point3D\\left(-2, 7, -5\\right)$"
      ],
      "text/plain": [
       "Point3D(-2, 7, -5)"
      ]
     },
     "metadata": {},
     "output_type": "display_data"
    },
    {
     "data": {
      "text/latex": [
       "$\\displaystyle Point3D\\left(14, -3, -2\\right)$"
      ],
      "text/plain": [
       "Point3D(14, -3, -2)"
      ]
     },
     "metadata": {},
     "output_type": "display_data"
    },
    {
     "data": {
      "text/latex": [
       "$\\displaystyle Point3D\\left(30, -7, -4\\right)$"
      ],
      "text/plain": [
       "Point3D(30, -7, -4)"
      ]
     },
     "metadata": {},
     "output_type": "display_data"
    },
    {
     "data": {
      "text/latex": [
       "$\\displaystyle Point3D\\left(94, -35, -2\\right)$"
      ],
      "text/plain": [
       "Point3D(94, -35, -2)"
      ]
     },
     "metadata": {},
     "output_type": "display_data"
    },
    {
     "name": "stdout",
     "output_type": "stream",
     "text": [
      "_____\n"
     ]
    },
    {
     "data": {
      "text/latex": [
       "$\\displaystyle Point3D\\left(-2, 7, -5\\right)$"
      ],
      "text/plain": [
       "Point3D(-2, 7, -5)"
      ]
     },
     "metadata": {},
     "output_type": "display_data"
    },
    {
     "data": {
      "text/latex": [
       "$\\displaystyle Point3D\\left(22, -8, -2\\right)$"
      ],
      "text/plain": [
       "Point3D(22, -8, -2)"
      ]
     },
     "metadata": {},
     "output_type": "display_data"
    },
    {
     "data": {
      "text/latex": [
       "$\\displaystyle Point3D\\left(30, -7, -4\\right)$"
      ],
      "text/plain": [
       "Point3D(30, -7, -4)"
      ]
     },
     "metadata": {},
     "output_type": "display_data"
    },
    {
     "data": {
      "text/latex": [
       "$\\displaystyle Point3D\\left(94, -35, -2\\right)$"
      ],
      "text/plain": [
       "Point3D(94, -35, -2)"
      ]
     },
     "metadata": {},
     "output_type": "display_data"
    },
    {
     "name": "stdout",
     "output_type": "stream",
     "text": [
      "_____\n"
     ]
    },
    {
     "data": {
      "text/latex": [
       "$\\displaystyle Point3D\\left(6, 2, -4\\right)$"
      ],
      "text/plain": [
       "Point3D(6, 2, -4)"
      ]
     },
     "metadata": {},
     "output_type": "display_data"
    },
    {
     "data": {
      "text/latex": [
       "$\\displaystyle Point3D\\left(22, -8, -2\\right)$"
      ],
      "text/plain": [
       "Point3D(22, -8, -2)"
      ]
     },
     "metadata": {},
     "output_type": "display_data"
    },
    {
     "data": {
      "text/latex": [
       "$\\displaystyle Point3D\\left(30, -7, -4\\right)$"
      ],
      "text/plain": [
       "Point3D(30, -7, -4)"
      ]
     },
     "metadata": {},
     "output_type": "display_data"
    },
    {
     "data": {
      "text/latex": [
       "$\\displaystyle Point3D\\left(94, -35, -2\\right)$"
      ],
      "text/plain": [
       "Point3D(94, -35, -2)"
      ]
     },
     "metadata": {},
     "output_type": "display_data"
    },
    {
     "name": "stdout",
     "output_type": "stream",
     "text": [
      "_____\n"
     ]
    }
   ],
   "source": [
    "pts = [Point([i, j, k]) for i, j, k in [[-2, 7, -5], [6, 2, -4], \n",
    "                                                     [14, -3, -2], [22, -8, -2], [30, -7, -4], [94, -35, -2]]]       \n",
    "print('collinear')\n",
    "for i in range(len(pts)):\n",
    "    for j in range(i + 1, len(pts)):\n",
    "        for k in range(j + 1, len(pts)):\n",
    "            if Point3D.are_collinear(pts[i], pts[j], pts[k]):\n",
    "                display(pts[i], pts[j], pts[k])\n",
    "                print('______')\n",
    "                \n",
    "print('coplanar')\n",
    "for i in range(len(pts)):\n",
    "    for j in range(i + 1, len(pts)):\n",
    "        for k in range(j + 1, len(pts)):\n",
    "            for m in range(k + 1, len(pts)):\n",
    "                if Point3D.are_coplanar(pts[i], pts[j], pts[k], pts[m]):\n",
    "                    display(pts[i], pts[j], pts[k], pts[m])\n",
    "                    print('_____')\n",
    "            "
   ]
  },
  {
   "cell_type": "markdown",
   "metadata": {},
   "source": [
    "###  Задание 6.\n",
    "Составить уравнения всех (различных!) плоскостей, определяемых точками задания 5.\n",
    "\n",
    "Указание: решать аналогично Примеру 11, проверить, что $A$, $B$, $C$ не лежат на одной прямой и составить плоскость $ABC$, включить ее в список плоскостей. "
   ]
  },
  {
   "cell_type": "code",
   "execution_count": 21,
   "metadata": {},
   "outputs": [
    {
     "data": {
      "text/latex": [
       "$\\displaystyle \\left[\\begin{matrix}- 5 x - 8 y + 46\\\\9 x + 24 y + 48 z + 90\\\\32 x + 80 y + 96 z - 16\\\\18 x + 48 y + 48 z - 12\\\\64 x + 160 y + 144 z - 128\\\\10 x + 16 y + 48 z + 4\\\\144 z + 288\\end{matrix}\\right]$"
      ],
      "text/plain": [
       "Matrix([\n",
       "[           -5*x - 8*y + 46],\n",
       "[    9*x + 24*y + 48*z + 90],\n",
       "[   32*x + 80*y + 96*z - 16],\n",
       "[   18*x + 48*y + 48*z - 12],\n",
       "[64*x + 160*y + 144*z - 128],\n",
       "[    10*x + 16*y + 48*z + 4],\n",
       "[               144*z + 288]])"
      ]
     },
     "metadata": {},
     "output_type": "display_data"
    }
   ],
   "source": [
    "pts = [Point([i, j, k]) for i, j, k in [[-2, 7, -5], [6, 2, -4], \n",
    "                                                     [14, -3, -2], [22, -8, -2], [30, -7, -4], [94, -35, -2]]]\n",
    "plns = []\n",
    "for i in range(len(pts)):\n",
    "    for j in range(i + 1, len(pts)):\n",
    "        for k in range(j + 1, len(pts)):\n",
    "            if not Point3D.are_collinear(pts[i], pts[j], pts[k]):\n",
    "                P = Plane(pts[i], pts[j], pts[k])\n",
    "                temp = True\n",
    "                for p in plns:\n",
    "                    if p.is_coplanar(P):\n",
    "                        temp = False\n",
    "                        break\n",
    "                if temp:\n",
    "                    plns.append(P)\n",
    "display(Matrix([i.equation() for i in plns]))"
   ]
  },
  {
   "cell_type": "markdown",
   "metadata": {},
   "source": [
    "### Индивидуальное задание\n",
    "Даны точки в пространстве\n",
    "$A$, $B$, $C$ и\n",
    "$M$.\n",
    "\n",
    "Найти угол между прямой $АВ$ и плоскостью $z = 0$, угол между $АС$ и $СМ$, угол между плоскостями $АВС$ и $ВСМ$.\n",
    "\n",
    "Составить уравнение: \n",
    "\n",
    "a) плоскости, параллельной $АВС$ и проходящей через начало координат,\n",
    "\n",
    "b) плоскости, перпендикулярной $АВС$ и проходящей через $А$ и $М$,\n",
    "\n",
    "c) прямой, перпендикулярной $АВС$ и проходящей через $С$."
   ]
  },
  {
   "cell_type": "code",
   "execution_count": 32,
   "metadata": {},
   "outputs": [
    {
     "data": {
      "text/latex": [
       "$\\displaystyle \\operatorname{asin}{\\left(\\frac{2902 \\sqrt{50553438}}{25276719} \\right)}$"
      ],
      "text/plain": [
       "asin(2902*sqrt(50553438)/25276719)"
      ]
     },
     "metadata": {},
     "output_type": "display_data"
    },
    {
     "data": {
      "text/latex": [
       "$\\displaystyle \\operatorname{acos}{\\left(- \\frac{11 \\sqrt{17}}{51} \\right)}$"
      ],
      "text/plain": [
       "acos(-11*sqrt(17)/51)"
      ]
     },
     "metadata": {},
     "output_type": "display_data"
    },
    {
     "data": {
      "text/latex": [
       "$\\displaystyle \\operatorname{acos}{\\left(\\frac{\\sqrt{2}}{6} \\right)}$"
      ],
      "text/plain": [
       "acos(sqrt(2)/6)"
      ]
     },
     "metadata": {},
     "output_type": "display_data"
    },
    {
     "data": {
      "text/latex": [
       "$\\displaystyle 4 x - 4 y - 48$"
      ],
      "text/plain": [
       "4*x - 4*y - 48"
      ]
     },
     "metadata": {},
     "output_type": "display_data"
    },
    {
     "data": {
      "text/latex": [
       "$\\displaystyle 28 x + 28 y - 48 z + 136$"
      ],
      "text/plain": [
       "28*x + 28*y - 48*z + 136"
      ]
     },
     "metadata": {},
     "output_type": "display_data"
    },
    {
     "data": {
      "text/latex": [
       "$\\displaystyle \\left( x + y - 14, \\  z - 11\\right)$"
      ],
      "text/plain": [
       "(x + y - 14, z - 11)"
      ]
     },
     "metadata": {},
     "output_type": "display_data"
    }
   ],
   "source": [
    "z = Symbol('z')\n",
    "C, H, M, U = [Point([i, j, k]) for i, j, k in [[7, -5, 4], [9, 5, 11], [3, -1, 4], [7, 3, 8]]]\n",
    "MU = Line(M, U)\n",
    "zo = Plane(Point(random.randint(1, 10000), random.randint(1, 10000), 0), Point(random.randint(1, 10000), random.randint(1, 10000), 0))\n",
    "display(zo.angle_between(MU))\n",
    "display(Line(M, H).angle_between(Line(H, C)))\n",
    "MUH = Plane(M, U, H)\n",
    "display(MUH.angle_between(Plane(U, H, C)))\n",
    "display(MUH.parallel_plane(C).equation())\n",
    "display(MUH.perpendicular_plane(M, H).equation())\n",
    "display(MUH.perpendicular_line(H).equation())\n"
   ]
  },
  {
   "cell_type": "code",
   "execution_count": null,
   "metadata": {},
   "outputs": [],
   "source": []
  }
 ],
 "metadata": {
  "kernelspec": {
   "display_name": "Python 3",
   "language": "python",
   "name": "python3"
  },
  "language_info": {
   "codemirror_mode": {
    "name": "ipython",
    "version": 3
   },
   "file_extension": ".py",
   "mimetype": "text/x-python",
   "name": "python",
   "nbconvert_exporter": "python",
   "pygments_lexer": "ipython3",
   "version": "3.7.6"
  }
 },
 "nbformat": 4,
 "nbformat_minor": 4
}
